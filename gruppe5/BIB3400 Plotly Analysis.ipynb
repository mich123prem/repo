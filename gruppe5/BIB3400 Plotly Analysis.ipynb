{
 "cells": [
  {
   "cell_type": "markdown",
   "metadata": {},
   "source": [
    "# Importering\n",
    "Vi begynner med å importere verktøyene vi kommer til å bruke, og lager en dataframe med data fra csv-filen."
   ]
  },
  {
   "cell_type": "code",
   "execution_count": 4,
   "metadata": {},
   "outputs": [],
   "source": [
    "import pandas as pd\n",
    "import plotly.express as px\n",
    "import plotly.graph_objects as go\n",
    "import plotly.io as pio\n",
    "pio.renderers.default = \"notebook\"\n",
    "df = pd.read_csv('kudos-evaluations-types-v3.csv', sep = ',')"
   ]
  },
  {
   "cell_type": "markdown",
   "metadata": {},
   "source": [
    "# Visualiseringer med stablet søylediagram\n",
    "I python-cellene under lager vi tre dataframes (df1, df2 og df3) fylt med såkalt \"long form data\" som egner seg for visualisering med stablet søylediagram. Vi begynner med å korte ned navnene på datainnsamlingskolonnene ved hjelp av en dict og .rename()-operatoren:"
   ]
  },
  {
   "cell_type": "code",
   "execution_count": 5,
   "metadata": {},
   "outputs": [],
   "source": [
    "column_rename_dict = {'datainnsamling 1': 'data_1',\n",
    "                     'datainnsamling 2': 'data_2',\n",
    "                     'datainnsamling 3': 'data_3',\n",
    "                     'datainnsamling 4': 'data_4',\n",
    "                     'datainnsamling 5': 'data_5'}\n",
    "df.rename(columns=column_rename_dict, inplace=True)"
   ]
  },
  {
   "cell_type": "markdown",
   "metadata": {},
   "source": [
    "I neste celle skal vi lage en dataframe kalt df1. Her ønsker vi å se på hvordan de forskjellige evalueringstypene er fordelt på sektor, så vi tar disse kolonnene med oss fra df til df1. Vi grupperer på sektor og bruker .value_counts(Normalize = True) for å telle evalueringstypene og normalisere disse (for å finne andel) til dataframe og tilbakestiller index for å unngå multi-index. Vi gir kolonnene norske navn og lager en ekstra kolonne med prosentverdier basert på \"andel\"-kolonnen."
   ]
  },
  {
   "cell_type": "code",
   "execution_count": 6,
   "metadata": {},
   "outputs": [
    {
     "ename": "AttributeError",
     "evalue": "'DataFrameGroupBy' object has no attribute 'value_counts'",
     "output_type": "error",
     "traceback": [
      "\u001b[0;31m---------------------------------------------------------------------------\u001b[0m",
      "\u001b[0;31mAttributeError\u001b[0m                            Traceback (most recent call last)",
      "\u001b[0;32m<ipython-input-6-34eeb6251aed>\u001b[0m in \u001b[0;36m<module>\u001b[0;34m\u001b[0m\n\u001b[1;32m      1\u001b[0m \u001b[0mdf1\u001b[0m \u001b[0;34m=\u001b[0m \u001b[0mdf\u001b[0m\u001b[0;34m[\u001b[0m\u001b[0;34m[\u001b[0m\u001b[0;34m'sector'\u001b[0m\u001b[0;34m,\u001b[0m \u001b[0;34m'evaluation_type'\u001b[0m\u001b[0;34m]\u001b[0m\u001b[0;34m]\u001b[0m\u001b[0;34m\u001b[0m\u001b[0;34m\u001b[0m\u001b[0m\n\u001b[0;32m----> 2\u001b[0;31m \u001b[0mdf1\u001b[0m \u001b[0;34m=\u001b[0m \u001b[0mdf1\u001b[0m\u001b[0;34m.\u001b[0m\u001b[0mgroupby\u001b[0m\u001b[0;34m(\u001b[0m\u001b[0;34m'sector'\u001b[0m\u001b[0;34m)\u001b[0m\u001b[0;34m.\u001b[0m\u001b[0mvalue_counts\u001b[0m\u001b[0;34m(\u001b[0m\u001b[0mnormalize\u001b[0m \u001b[0;34m=\u001b[0m \u001b[0;32mTrue\u001b[0m\u001b[0;34m)\u001b[0m\u001b[0;34m.\u001b[0m\u001b[0mto_frame\u001b[0m\u001b[0;34m(\u001b[0m\u001b[0;34m)\u001b[0m\u001b[0;34m.\u001b[0m\u001b[0mreset_index\u001b[0m\u001b[0;34m(\u001b[0m\u001b[0;34m)\u001b[0m\u001b[0;34m\u001b[0m\u001b[0;34m\u001b[0m\u001b[0m\n\u001b[0m\u001b[1;32m      3\u001b[0m \u001b[0mdf1\u001b[0m \u001b[0;34m=\u001b[0m \u001b[0mdf1\u001b[0m\u001b[0;34m.\u001b[0m\u001b[0mrename\u001b[0m\u001b[0;34m(\u001b[0m\u001b[0mcolumns\u001b[0m\u001b[0;34m=\u001b[0m\u001b[0;34m{\u001b[0m\u001b[0mdf1\u001b[0m\u001b[0;34m.\u001b[0m\u001b[0mcolumns\u001b[0m\u001b[0;34m[\u001b[0m\u001b[0;36m0\u001b[0m\u001b[0;34m]\u001b[0m\u001b[0;34m:\u001b[0m\u001b[0;34m'sektor'\u001b[0m\u001b[0;34m,\u001b[0m \u001b[0mdf1\u001b[0m\u001b[0;34m.\u001b[0m\u001b[0mcolumns\u001b[0m\u001b[0;34m[\u001b[0m\u001b[0;36m1\u001b[0m\u001b[0;34m]\u001b[0m\u001b[0;34m:\u001b[0m\u001b[0;34m'type'\u001b[0m\u001b[0;34m,\u001b[0m \u001b[0mdf1\u001b[0m\u001b[0;34m.\u001b[0m\u001b[0mcolumns\u001b[0m\u001b[0;34m[\u001b[0m\u001b[0;36m2\u001b[0m\u001b[0;34m]\u001b[0m\u001b[0;34m:\u001b[0m\u001b[0;34m'andel'\u001b[0m\u001b[0;34m}\u001b[0m\u001b[0;34m)\u001b[0m\u001b[0;34m\u001b[0m\u001b[0;34m\u001b[0m\u001b[0m\n\u001b[1;32m      4\u001b[0m \u001b[0mdf1\u001b[0m\u001b[0;34m[\u001b[0m\u001b[0;34m'prosent'\u001b[0m\u001b[0;34m]\u001b[0m \u001b[0;34m=\u001b[0m \u001b[0mdf1\u001b[0m\u001b[0;34m[\u001b[0m\u001b[0;34m'andel'\u001b[0m\u001b[0;34m]\u001b[0m \u001b[0;34m*\u001b[0m \u001b[0;36m100\u001b[0m\u001b[0;34m\u001b[0m\u001b[0;34m\u001b[0m\u001b[0m\n",
      "\u001b[0;32m~/anaconda3_2020.02/lib/python3.7/site-packages/pandas/core/groupby/groupby.py\u001b[0m in \u001b[0;36m__getattr__\u001b[0;34m(self, attr)\u001b[0m\n\u001b[1;32m    910\u001b[0m \u001b[0;34m\u001b[0m\u001b[0m\n\u001b[1;32m    911\u001b[0m         raise AttributeError(\n\u001b[0;32m--> 912\u001b[0;31m             \u001b[0;34mf\"'{type(self).__name__}' object has no attribute '{attr}'\"\u001b[0m\u001b[0;34m\u001b[0m\u001b[0;34m\u001b[0m\u001b[0m\n\u001b[0m\u001b[1;32m    913\u001b[0m         )\n\u001b[1;32m    914\u001b[0m \u001b[0;34m\u001b[0m\u001b[0m\n",
      "\u001b[0;31mAttributeError\u001b[0m: 'DataFrameGroupBy' object has no attribute 'value_counts'"
     ]
    }
   ],
   "source": [
    "df1 = df[['sector', 'evaluation_type']]\n",
    "df1 = df1.groupby('sector').value_counts(normalize = True).to_frame().reset_index()\n",
    "df1 = df1.rename(columns={df1.columns[0]:'sektor', df1.columns[1]:'type', df1.columns[2]:'andel'})\n",
    "df1['prosent'] = df1['andel'] * 100"
   ]
  },
  {
   "cell_type": "markdown",
   "metadata": {},
   "source": [
    "Her lager vi en figur ved hjelp av plotly express. px.bar() tar dataframe og kolonner som argumenter. Vi kan bruker fig.update_layout() og fig.update_xaxes() til å modifisere aspekter ved presentasjonen av grafen. Her har vi lagt til en tittel (og flyttet litt på den), samt rotert sektor-navnene for å gjøre dem mer lesbare."
   ]
  },
  {
   "cell_type": "code",
   "execution_count": null,
   "metadata": {},
   "outputs": [],
   "source": [
    "fig = px.bar(df1, x=\"sektor\", y='prosent', color=\"type\")\n",
    "fig.update_layout(title_text='Evalueringstyper fordelt på sektor', title_x=0.42)\n",
    "fig.update_xaxes(tickangle=40)\n",
    "fig.show()"
   ]
  },
  {
   "cell_type": "markdown",
   "metadata": {},
   "source": [
    "I df2 ønsker vi å se på de forskjellige datainnsamlingsmetodene, og hvor stor andel de utgjør i forskjellige typer evalueringer. Vi starter med å lage en mindre dataframe df2 med et utvalg kolonner fra df. Deretter smelter vi df2 for å organisere alle datainnsamlingsmetodene (data_1 - data_5) i samme kolonne (denne blir kalt \"value\"). Den midlertidige dataframen kaller vi \"df2_melted\". I linje 8 fjerner vi alle rader som mangler verdier i \"value\"-kolonnen. Til slutt gjentar vi samme prosess som i df1, der vi grupperer og normaliserer til dataframe, angir nye kolonnenavn og lager en \"prosent\"-kolonne. "
   ]
  },
  {
   "cell_type": "code",
   "execution_count": null,
   "metadata": {},
   "outputs": [],
   "source": [
    "df2 = df[['sector', 'evaluation_type', 'data_1', 'data_2', 'data_3', 'data_4', 'data_5']]\n",
    "\n",
    "id_vars = ['sector', 'evaluation_type']\n",
    "value_vars = ['data_1', 'data_2', 'data_3', 'data_4', 'data_5']\n",
    "df2_melted = df2.melt(id_vars = id_vars, value_vars = value_vars)\n",
    "df2_melted = df2_melted.sort_values(['sector', 'evaluation_type'])\n",
    " \n",
    "df2_melted = df2_melted[df2_melted.value.notnull()]\n",
    "\n",
    "df2 = df2_melted[['evaluation_type', 'value']]\n",
    "df2 = df2.groupby('evaluation_type').value_counts(normalize = True).to_frame().reset_index()\n",
    "df2 = df2.rename(columns={df2.columns[0]:'type', df2.columns[1]:'datainnsamling', df2.columns[2]:'andel'})\n",
    "df2['prosent'] = df2['andel'] * 100"
   ]
  },
  {
   "cell_type": "markdown",
   "metadata": {},
   "source": [
    "Her lager vi en figur basert på df2 i plotly:"
   ]
  },
  {
   "cell_type": "code",
   "execution_count": null,
   "metadata": {
    "scrolled": false
   },
   "outputs": [],
   "source": [
    "fig = px.bar(df2, x='type', y='prosent', color='datainnsamling')\n",
    "fig.update_layout(title_text='Datainnsamlingsmetoder fordelt på evalueringstype', title_x=0.45)\n",
    "fig.update_xaxes(tickangle=40)\n",
    "fig.show()"
   ]
  },
  {
   "cell_type": "markdown",
   "metadata": {},
   "source": [
    "I df3 er vi interessert i å se på datainnsamlingsmetodene, men denne gangen fordelt på sektor. df3 tar utgangspunkt i df2_melted, så mye av jobben er allerede gjort. Vi grupperer og normaliserer til dataframe, gir nye kolonnenavn og lager en \"prosent\"-kolonne. "
   ]
  },
  {
   "cell_type": "code",
   "execution_count": null,
   "metadata": {},
   "outputs": [],
   "source": [
    "df3 = df2_melted[['sector', 'value']] \n",
    "df3 = df3.groupby('sector').value_counts(normalize = True).to_frame().reset_index()\n",
    "df3 = df3.rename(columns={df3.columns[0]:'sektor', df3.columns[1]:'datainnsamling', df3.columns[2]:'andel'})\n",
    "df3['prosent'] = df3['andel'] * 100"
   ]
  },
  {
   "cell_type": "markdown",
   "metadata": {},
   "source": [
    "Her lager vi en figur basert på df3 i plotly:"
   ]
  },
  {
   "cell_type": "code",
   "execution_count": null,
   "metadata": {
    "scrolled": false
   },
   "outputs": [],
   "source": [
    "fig = px.bar(df3, x='sektor', y='prosent', color='datainnsamling')\n",
    "fig.update_layout(title_text='Datainnsamlingsmetoder fordelt på sektor', title_x=0.45)\n",
    "fig.update_xaxes(tickangle=40)\n",
    "fig.show()"
   ]
  },
  {
   "cell_type": "markdown",
   "metadata": {},
   "source": [
    "# Visualiseringer med gruppert søylediagram"
   ]
  },
  {
   "cell_type": "markdown",
   "metadata": {},
   "source": [
    "Her vil vi bruke grupperte søylediagram for å se på flere variabler på samme tid. Først er vi interessert i å se på lengdene på evalueringer (minste, gjennomsnittlige og største verdier) fordelt på sektor. I cellen under lager vi en dataframe kalt df5, som inneholder data fra kolonnene \"sector\" og \"length\". Vi grupperer på sektor og bruker .agg()-operatoren for å gjøre noen enkle beregninger på dataene i \"length\" (vi ønsker min, mean og max verdier). "
   ]
  },
  {
   "cell_type": "code",
   "execution_count": null,
   "metadata": {},
   "outputs": [],
   "source": [
    "df5 = df[['sector','length']]\n",
    "df5 = df5.groupby('sector').agg({'length': ['mean', 'min', 'max']}).reset_index()"
   ]
  },
  {
   "cell_type": "markdown",
   "metadata": {},
   "source": [
    "Som resultat av aggregeringen har vi multi-index, men vi vil \"flate\" den ut til single-index for enkelhets skyld. Deretter sorterer vi verdiene på maks-lengde, slik at vi forhåpentligvis kan se en interessant trend i dataene. "
   ]
  },
  {
   "cell_type": "code",
   "execution_count": null,
   "metadata": {},
   "outputs": [],
   "source": [
    "df5.columns = [' '.join(col).strip() for col in df5.columns.values]\n",
    "df5 = df5.sort_values(['length max'])"
   ]
  },
  {
   "cell_type": "markdown",
   "metadata": {},
   "source": [
    "Her lager vi en figur ved hjelp av plotly (graph objects):"
   ]
  },
  {
   "cell_type": "code",
   "execution_count": null,
   "metadata": {
    "scrolled": false
   },
   "outputs": [],
   "source": [
    "fig = go.Figure(data=[\n",
    "    go.Bar(name='min', x=df5['sector'], y=df5['length min']),\n",
    "    go.Bar(name='mean', x=df5['sector'], y=df5['length mean']),\n",
    "    go.Bar(name='max', x=df5['sector'], y=df5['length max'])\n",
    "])\n",
    "fig.update_layout(barmode='group')\n",
    "fig.update_layout(title_text='Lengder på evalueringer fordelt på sektor', title_x=0.5)\n",
    "fig.update_xaxes(tickangle=40)\n",
    "fig.show()"
   ]
  },
  {
   "cell_type": "markdown",
   "metadata": {},
   "source": [
    "Her kan vi gjøre det samme, men bytte ut \"sector\" med \"published_at\" for å se utvikling i lengder over tid heller enn basert på sektor:"
   ]
  },
  {
   "cell_type": "code",
   "execution_count": null,
   "metadata": {
    "scrolled": false
   },
   "outputs": [],
   "source": [
    "df6 = df[['published_at','length']]\n",
    "df6 = df6.groupby('published_at').agg({'length': ['mean', 'min', 'max']}).reset_index()\n",
    "df6.columns = [' '.join(col).strip() for col in df6.columns.values]\n",
    "df6 = df6.sort_values(['length max'])\n",
    "\n",
    "fig = go.Figure(data=[\n",
    "    go.Bar(name='min', x=df6['published_at'], y=df6['length min']),\n",
    "    go.Bar(name='mean', x=df6['published_at'], y=df6['length mean']),\n",
    "    go.Bar(name='max', x=df6['published_at'], y=df6['length max'])\n",
    "])\n",
    "fig.update_layout(barmode='group')\n",
    "fig.update_layout(title_text='Lengder på evalueringer over tid', title_x=0.5)\n",
    "fig.update_xaxes(tickangle=15)\n",
    "fig.show()"
   ]
  },
  {
   "cell_type": "markdown",
   "metadata": {},
   "source": [
    "# Visualisering med spredningsplott"
   ]
  },
  {
   "cell_type": "markdown",
   "metadata": {},
   "source": [
    "Her kan vi benytte dataframen vi lagde tidligere (df6) til å visualisere utviklingen i maks-lengde over tid med plotly, denne gangen med scatterplot (spredningsplott). Vi legger til en \"trendline\" for å mer tydelig vise tendens i utviklingen: "
   ]
  },
  {
   "cell_type": "code",
   "execution_count": null,
   "metadata": {},
   "outputs": [],
   "source": [
    "fig = px.scatter(df6, x=\"published_at\", y=\"length max\", trendline=\"ols\", labels={\n",
    "    'length max': 'makslengde (tegn)', 'published_at': 'år'})\n",
    "fig.update_layout(title_text = 'Makslengde på evalueringer over tid', title_x = 0.5)\n",
    "fig.show()"
   ]
  },
  {
   "cell_type": "markdown",
   "metadata": {},
   "source": [
    "# Visualiseringer med arealdiagram\n",
    "Ettersom datasettet vi jobber med inneholder datoer, kan det være interessant å se hvordan ting har utviklet seg over tid. Vi starter med å lage en mindre dataframe med bare de relevante kolonnene, og grupperer på årstall. Her har vi ikke normalisert, så vi får visualisert mengden publisering i samme graf. "
   ]
  },
  {
   "cell_type": "code",
   "execution_count": null,
   "metadata": {},
   "outputs": [],
   "source": [
    "df4 = df[['published_at', 'language']]\n",
    "\n",
    "df4 = df4.groupby('published_at').value_counts().to_frame().reset_index()\n",
    "df4 = df4.rename(columns={df4.columns[0]:'år',df4.columns[1]:'språk', df4.columns[2]:'antall evalueringer'})"
   ]
  },
  {
   "cell_type": "markdown",
   "metadata": {},
   "source": [
    "Her lager vi en figur basert på df4 i plotly:"
   ]
  },
  {
   "cell_type": "code",
   "execution_count": null,
   "metadata": {
    "scrolled": false
   },
   "outputs": [],
   "source": [
    "fig = px.area(df4, x='år', y='antall evalueringer', color='språk')\n",
    "fig.update_layout(title_text=\"Språkfordeling i tidsperspektiv\", title_x=0.5)\n",
    "fig.show()"
   ]
  },
  {
   "cell_type": "markdown",
   "metadata": {},
   "source": [
    "Her starter vi med samme utgangspunkt som da vi lagde df4, men vi lager et filter som begrenser dataene til rader hvor språket er enten norsk bokmål eller engelsk. Deretter grupperer vi og normaliserer til dataframe, samt gir nye navn til kolonnene. Vi lager også en ny \"prosent\"-kolonne basert på \"andel\". "
   ]
  },
  {
   "cell_type": "code",
   "execution_count": null,
   "metadata": {
    "scrolled": false
   },
   "outputs": [],
   "source": [
    "df4_2 = df[['published_at', 'language']]\n",
    "språkfilter = df4_2['language'].isin(['nob', 'eng'])\n",
    "df4_2 = df4_2[språkfilter]\n",
    "df4_2 = df4_2.groupby('published_at').value_counts(normalize = True).to_frame().reset_index()\n",
    "df4_2 = df4_2.rename(columns={df4_2.columns[0]:'år',df4_2.columns[1]:'språk', df4_2.columns[2]:'andel'})\n",
    "df4_2['prosent'] = df4_2['andel'] * 100"
   ]
  },
  {
   "cell_type": "markdown",
   "metadata": {},
   "source": [
    "Her lager vi en figur basert på df4_2 i plotly. Mengdene med data fører til noen kraftige svingninger, men vi ser fremdeles en økende tendens for engelskspråklige evalueringer over tid. "
   ]
  },
  {
   "cell_type": "code",
   "execution_count": null,
   "metadata": {
    "scrolled": false
   },
   "outputs": [],
   "source": [
    "fig = px.area(df4_2, x='år', y='prosent', color='språk')\n",
    "fig.update_layout(title_text=\"Språkfordeling i tidsperspektiv\", title_x=0.5)\n",
    "fig.show()"
   ]
  }
 ],
 "metadata": {
  "kernelspec": {
   "display_name": "Python 3",
   "language": "python",
   "name": "python3"
  },
  "language_info": {
   "codemirror_mode": {
    "name": "ipython",
    "version": 3
   },
   "file_extension": ".py",
   "mimetype": "text/x-python",
   "name": "python",
   "nbconvert_exporter": "python",
   "pygments_lexer": "ipython3",
   "version": "3.7.6"
  }
 },
 "nbformat": 4,
 "nbformat_minor": 5
}
